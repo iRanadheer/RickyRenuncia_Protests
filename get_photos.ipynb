{
 "cells": [
  {
   "cell_type": "code",
   "execution_count": 1,
   "metadata": {},
   "outputs": [],
   "source": [
    "import twitter\n",
    "import urllib.request\n",
    "import os\n",
    "import config as cf"
   ]
  },
  {
   "cell_type": "code",
   "execution_count": 2,
   "metadata": {},
   "outputs": [],
   "source": [
    "api = twitter.Api(consumer_key = cf.credentials[\"consumer_key\"],\n",
    "                  consumer_secret = cf.credentials[\"consumer_secret\"],\n",
    "                  access_token_key = cf.credentials[\"access_token\"],\n",
    "                  access_token_secret = cf.credentials[\"access_token_secret\"])"
   ]
  },
  {
   "cell_type": "code",
   "execution_count": 3,
   "metadata": {},
   "outputs": [],
   "source": [
    "hashtag = 'rickyrenuncia'\n",
    "result_type = 'mixed' # possible values: mixed, recent, popular\n",
    "include_entities = 'true'\n",
    "with_twitter_user_id = 'true' # include user information\n",
    "since = '2019-07-20' # start date\n",
    "until = '2019-07-23'\n",
    "count = '100' # The number of tweets to return per page"
   ]
  },
  {
   "cell_type": "code",
   "execution_count": 4,
   "metadata": {},
   "outputs": [],
   "source": [
    "query = ('q={hashtag}' + \n",
    "         '&result_type={result_type}' +\n",
    "         '&include_entities={include_entities}' +\n",
    "         '&with_twitter_user_id={with_twitter_user_id}' + \n",
    "         '&since={since}' + \n",
    "         '&until={until}' +\n",
    "         '&count={count}')\n",
    "\n",
    "query = query.format(hashtag=hashtag,\n",
    "                 result_type=result_type,\n",
    "                 include_entities=include_entities,\n",
    "                 with_twitter_user_id=with_twitter_user_id,\n",
    "                 since=since,\n",
    "                 until=until,\n",
    "                 count=count)"
   ]
  },
  {
   "cell_type": "code",
   "execution_count": 5,
   "metadata": {
    "scrolled": true
   },
   "outputs": [
    {
     "data": {
      "text/plain": [
       "'q=rickyrenuncia&result_type=mixed&include_entities=true&with_twitter_user_id=true&since=2019-07-20&until=2019-07-23&count=100'"
      ]
     },
     "execution_count": 5,
     "metadata": {},
     "output_type": "execute_result"
    }
   ],
   "source": [
    "query"
   ]
  },
  {
   "cell_type": "markdown",
   "metadata": {},
   "source": [
    "To use max_id correctly, an application’s first request to a timeline endpoint should only specify a count. When processing this and subsequent responses, keep track of the lowest ID received. This ID should be passed as the value of the max_id parameter for the next request, which will only return Tweets with IDs lower than or equal to the value of the max_id parameter."
   ]
  },
  {
   "cell_type": "code",
   "execution_count": 6,
   "metadata": {
    "scrolled": true
   },
   "outputs": [],
   "source": [
    "all_results = []\n",
    "max_id = None\n",
    "IDs = []\n",
    "\n",
    "for i in range(0,180):\n",
    "    \n",
    "    results = api.GetSearch(raw_query = query)\n",
    "    all_results.extend(results)\n",
    "    IDs = [result.id for result in results]\n",
    "    smallest_ID = min(IDs)\n",
    "    \n",
    "    if max_id == None: # first call \n",
    "        max_id = smallest_ID\n",
    "        query += '&max_id={max_id}'.format(max_id=max_id)\n",
    "    else:\n",
    "        old_max_id = \"max_id={max_id}\".format(max_id=max_id)\n",
    "        max_id = smallest_ID\n",
    "        new_max_id = \"max_id={max_id}\".format(max_id=max_id)\n",
    "        query = query.replace(old_max_id,new_max_id)"
   ]
  },
  {
   "cell_type": "code",
   "execution_count": 7,
   "metadata": {},
   "outputs": [
    {
     "name": "stdout",
     "output_type": "stream",
     "text": [
      "last max_id = 1152378210400788480\n"
     ]
    }
   ],
   "source": [
    "print(\"last max_id =\",max_id)"
   ]
  },
  {
   "cell_type": "code",
   "execution_count": 8,
   "metadata": {},
   "outputs": [
    {
     "data": {
      "text/plain": [
       "18000"
      ]
     },
     "execution_count": 8,
     "metadata": {},
     "output_type": "execute_result"
    }
   ],
   "source": [
    "len(all_results)"
   ]
  },
  {
   "cell_type": "code",
   "execution_count": 12,
   "metadata": {},
   "outputs": [
    {
     "data": {
      "text/plain": [
       "Status(ID=1153353426291572736, ScreenName=AOC, Created=Mon Jul 22 17:17:39 +0000 2019, Text='The people have spoken. #RickyRenuncia https://t.co/7UmyDL3Ry4')"
      ]
     },
     "execution_count": 12,
     "metadata": {},
     "output_type": "execute_result"
    }
   ],
   "source": [
    "all_results[0]"
   ]
  },
  {
   "cell_type": "code",
   "execution_count": 13,
   "metadata": {},
   "outputs": [
    {
     "data": {
      "text/plain": [
       "'1153353426291572736'"
      ]
     },
     "execution_count": 13,
     "metadata": {},
     "output_type": "execute_result"
    }
   ],
   "source": [
    "all_results[0].id_str"
   ]
  },
  {
   "cell_type": "code",
   "execution_count": 16,
   "metadata": {},
   "outputs": [
    {
     "data": {
      "text/plain": [
       "'AOC'"
      ]
     },
     "execution_count": 16,
     "metadata": {},
     "output_type": "execute_result"
    }
   ],
   "source": [
    "all_results[0].user.screen_name"
   ]
  },
  {
   "cell_type": "code",
   "execution_count": 19,
   "metadata": {},
   "outputs": [
    {
     "name": "stdout",
     "output_type": "stream",
     "text": [
      "https://twitter.com/ricky_martin/status/1153108397660811264\n"
     ]
    }
   ],
   "source": [
    "sample_result = all_results[1]\n",
    "\n",
    "tweet_id = sample_result.id_str\n",
    "screen_name = sample_result.user.screen_name\n",
    "\n",
    "tweet_url = \"https://twitter.com/{screen_name}/status/{tweet_id}\"\n",
    "tweet_url = tweet_url.format(screen_name=screen_name,tweet_id=tweet_id)\n",
    "\n",
    "print(tweet_url)"
   ]
  },
  {
   "cell_type": "code",
   "execution_count": 21,
   "metadata": {},
   "outputs": [],
   "source": [
    "def get_tweet_url(tweet):\n",
    "    \n",
    "    tweet_id = tweet.id_str\n",
    "    screen_name = tweet.user.screen_name\n",
    "\n",
    "    tweet_url = \"https://twitter.com/{screen_name}/status/{tweet_id}\"\n",
    "    tweet_url = tweet_url.format(screen_name=screen_name,tweet_id=tweet_id)\n",
    "    \n",
    "    return tweet_url"
   ]
  },
  {
   "cell_type": "code",
   "execution_count": 22,
   "metadata": {},
   "outputs": [],
   "source": [
    "folder_name = \"downloaded_media2\""
   ]
  },
  {
   "cell_type": "code",
   "execution_count": 27,
   "metadata": {},
   "outputs": [],
   "source": [
    "image_origins = {\n",
    "    \"tweet_url\": [],\n",
    "    \"image_id\": [],\n",
    "    \"image_url\": [],\n",
    "}\n",
    "\n",
    "downloaded_img_ids = [file[:file.find('.')] for file in os.listdir(folder_name)]\n",
    "\n",
    "for tweet in all_results:\n",
    "    \n",
    "    tweet_url = get_tweet_url(tweet)\n",
    "    \n",
    "    if tweet.media:\n",
    "        \n",
    "        for media in tweet.media:\n",
    "            \n",
    "            media_id = str(media.id)\n",
    "            media_url = media.media_url\n",
    "            \n",
    "            if not(media_id in downloaded_img_ids): # don't re-download images\n",
    "                \n",
    "                file_name = media_id\n",
    "                file_type = os.path.splitext(media_url)[1]\n",
    "\n",
    "                urllib.request.urlretrieve(media_url, os.path.join(folder_name,file_name+file_type))\n",
    "                \n",
    "                downloaded_img_ids.append(media_id)\n",
    "                \n",
    "                # save image origin info\n",
    "                image_origins[\"tweet_url\"].append(tweet_url)\n",
    "                image_origins[\"image_id\"].append(media_id)\n",
    "                image_origins[\"image_url\"].append(media_url)"
   ]
  },
  {
   "cell_type": "code",
   "execution_count": 53,
   "metadata": {},
   "outputs": [],
   "source": [
    "import pickle\n",
    "\n",
    "pickle.dump(image_origins,open(\"image_origins.p\",\"wb\"))\n",
    "pickle.dump(all_results,open(\"all_results.p\",\"wb\"))"
   ]
  },
  {
   "cell_type": "code",
   "execution_count": 46,
   "metadata": {},
   "outputs": [],
   "source": [
    "import pandas as pd\n",
    "\n",
    "# turn dictionary to dataframe\n",
    "image_info_df = pd.DataFrame.from_dict(image_origins)\n",
    "# remove rows with duplicate image IDs\n",
    "image_info_df = image_info_df.drop_duplicates(subset='image_id', keep='first')\n",
    "# order columns\n",
    "image_info_df = image_info_df[['image_id','image_url','tweet_url']]"
   ]
  },
  {
   "cell_type": "code",
   "execution_count": 47,
   "metadata": {},
   "outputs": [
    {
     "data": {
      "text/html": [
       "<div>\n",
       "<style scoped>\n",
       "    .dataframe tbody tr th:only-of-type {\n",
       "        vertical-align: middle;\n",
       "    }\n",
       "\n",
       "    .dataframe tbody tr th {\n",
       "        vertical-align: top;\n",
       "    }\n",
       "\n",
       "    .dataframe thead th {\n",
       "        text-align: right;\n",
       "    }\n",
       "</style>\n",
       "<table border=\"1\" class=\"dataframe\">\n",
       "  <thead>\n",
       "    <tr style=\"text-align: right;\">\n",
       "      <th></th>\n",
       "      <th>image_id</th>\n",
       "      <th>image_url</th>\n",
       "      <th>tweet_url</th>\n",
       "    </tr>\n",
       "  </thead>\n",
       "  <tbody>\n",
       "    <tr>\n",
       "      <th>0</th>\n",
       "      <td>1153108337967468544</td>\n",
       "      <td>http://pbs.twimg.com/ext_tw_video_thumb/115310...</td>\n",
       "      <td>https://twitter.com/ricky_martin/status/115310...</td>\n",
       "    </tr>\n",
       "    <tr>\n",
       "      <th>1</th>\n",
       "      <td>1153431768780955648</td>\n",
       "      <td>http://pbs.twimg.com/media/EAHQFSLW4AAkLWw.jpg</td>\n",
       "      <td>https://twitter.com/venturing391/status/115345...</td>\n",
       "    </tr>\n",
       "    <tr>\n",
       "      <th>2</th>\n",
       "      <td>1153443561918074880</td>\n",
       "      <td>http://pbs.twimg.com/ext_tw_video_thumb/115344...</td>\n",
       "      <td>https://twitter.com/jose_ulisesag/status/11534...</td>\n",
       "    </tr>\n",
       "    <tr>\n",
       "      <th>3</th>\n",
       "      <td>1153453733730238469</td>\n",
       "      <td>http://pbs.twimg.com/media/EAHkDz_WwAUGUoX.jpg</td>\n",
       "      <td>https://twitter.com/imsody5/status/11534546628...</td>\n",
       "    </tr>\n",
       "    <tr>\n",
       "      <th>4</th>\n",
       "      <td>1153453326748528640</td>\n",
       "      <td>http://pbs.twimg.com/ext_tw_video_thumb/115345...</td>\n",
       "      <td>https://twitter.com/WilliamDoudou/status/11534...</td>\n",
       "    </tr>\n",
       "  </tbody>\n",
       "</table>\n",
       "</div>"
      ],
      "text/plain": [
       "              image_id                                          image_url  \\\n",
       "0  1153108337967468544  http://pbs.twimg.com/ext_tw_video_thumb/115310...   \n",
       "1  1153431768780955648     http://pbs.twimg.com/media/EAHQFSLW4AAkLWw.jpg   \n",
       "2  1153443561918074880  http://pbs.twimg.com/ext_tw_video_thumb/115344...   \n",
       "3  1153453733730238469     http://pbs.twimg.com/media/EAHkDz_WwAUGUoX.jpg   \n",
       "4  1153453326748528640  http://pbs.twimg.com/ext_tw_video_thumb/115345...   \n",
       "\n",
       "                                           tweet_url  \n",
       "0  https://twitter.com/ricky_martin/status/115310...  \n",
       "1  https://twitter.com/venturing391/status/115345...  \n",
       "2  https://twitter.com/jose_ulisesag/status/11534...  \n",
       "3  https://twitter.com/imsody5/status/11534546628...  \n",
       "4  https://twitter.com/WilliamDoudou/status/11534...  "
      ]
     },
     "execution_count": 47,
     "metadata": {},
     "output_type": "execute_result"
    }
   ],
   "source": [
    "image_info_df.head()"
   ]
  },
  {
   "cell_type": "code",
   "execution_count": 48,
   "metadata": {},
   "outputs": [
    {
     "data": {
      "text/plain": [
       "895"
      ]
     },
     "execution_count": 48,
     "metadata": {},
     "output_type": "execute_result"
    }
   ],
   "source": [
    "len(image_info_df)"
   ]
  },
  {
   "cell_type": "code",
   "execution_count": 49,
   "metadata": {},
   "outputs": [],
   "source": [
    "image_info_df.to_csv(\"image_origins.csv\",index=False)"
   ]
  },
  {
   "cell_type": "markdown",
   "metadata": {},
   "source": [
    "The `Status` class represents the Status structure used by the twitter API. It has the following attributes (all are None by default):\n",
    "* contributors\n",
    "* coordinates\n",
    "* created_at: Date the tweet was published. e.g. 'Mon Jul 22 17:17:39 +0000 2019'\n",
    "* current_user_retweet\n",
    "* favorite_count: # of times the tweet has been liked (heart button).\n",
    "* favorited: Boolean\n",
    "* full_text: List of hashtags the post has. Each element is an object of the class `Hashtag`.\n",
    "* geo\n",
    "* hashtags\n",
    "* id: ID which identifies tweet e.g. 1153353426291572736\n",
    "* id_str: id as a string. e.g. '1153353426291572736'\n",
    "* in_reply_to_screen_name\n",
    "* in_reply_to_status_id\n",
    "* in_reply_to_user_id\n",
    "* lang: language of post. e.g. 'en'\n",
    "* location\n",
    "* media: List of objects of class `Media`, containing information of media present in the tweet, with URL to access the media. e.g. `[Media(ID=1153108337967468544, Type=video, DisplayURL='pic.twitter.com/IsRTsXfDs9')]`\n",
    "* place\n",
    "* possibly_sensitive: Boolean. e.g. False\n",
    "* quoted_status: Twitter status shared by poster (retweet), if one was shared. It is an object of the class `Status`.\n",
    "* quoted_status_id: id which identifies the shared post\n",
    "* quoted_status_id_str: id of shared post as a string\n",
    "* retweet_count: Number of times post was retweeted\n",
    "* retweeted: Boolean\n",
    "* retweeted_status\n",
    "* scopes\n",
    "* source: Device/source where post was shared. e.g. `<a href=\"http://twitter.com/download/iphone\" rel=\"nofollow\">Twitter for iPhone</a>`\n",
    "* text: Text of post, and link of retweet post of the post has a shared tweet. e.g. 'The people have spoken. #RickyRenuncia https://t.co/7UmyDL3Ry4'\n",
    "* truncated: Boolean\n",
    "* urls: list of urls mentioned in post, will usually be retweeted post. Each element is an object of the class `URL`. e.g. `[URL(URL=https://t.co/7UmyDL3Ry4, ExpandedURL=https://twitter.com/davidbegnaud/status/1153344412107399169)]`\n",
    "* user: object of class `User`, has info of tweet author (user ID, screen name, etc)\n",
    "* user_mentions: list\n",
    "* withheld_copyright \n",
    "* withheld_in_countries\n",
    "* withheld_scope"
   ]
  },
  {
   "cell_type": "markdown",
   "metadata": {},
   "source": [
    "The `Hashtag` class represents a twitter hashtag. It has the following attributes:\n",
    "* text: hashtag text (e.g. RickyRenuncia)"
   ]
  },
  {
   "cell_type": "markdown",
   "metadata": {},
   "source": [
    "The `URL` class represents a URL contained in a tweet. It has the following attributes:\n",
    "* expanded_url\n",
    "* url"
   ]
  },
  {
   "cell_type": "markdown",
   "metadata": {},
   "source": [
    "The `User` class represents the User structure. It has the following attributes:\n",
    "* contributors_enabled\n",
    "* created_at\n",
    "* default_profile\n",
    "* default_profile_image\n",
    "* description\n",
    "* email\n",
    "* favourites_count\n",
    "* followers_count\n",
    "* following\n",
    "* friends_count\n",
    "* geo_enabled\n",
    "* id\n",
    "* id_str\n",
    "* lang\n",
    "* listed_count\n",
    "* location\n",
    "* name\n",
    "* notifications\n",
    "* profile attributes ...\n",
    "* protected\n",
    "* screen_name\n",
    "* status\n",
    "* statuses_count\n",
    "* time_zone\n",
    "* url\n",
    "* utc_offset\n",
    "* verified\n",
    "* withheld_in_countries\n",
    "* withheld_scope"
   ]
  },
  {
   "cell_type": "markdown",
   "metadata": {},
   "source": [
    "The `Media` class represents the media component of a tweet. It has the following attributes:\n",
    "* display_url\n",
    "* expanded_url\n",
    "* ext_alt_text\n",
    "* id\n",
    "* media_url\n",
    "* media_url_https\n",
    "* sizes\n",
    "* type\n",
    "* url \n",
    "* video_info"
   ]
  }
 ],
 "metadata": {
  "kernelspec": {
   "display_name": "Python 3",
   "language": "python",
   "name": "python3"
  },
  "language_info": {
   "codemirror_mode": {
    "name": "ipython",
    "version": 3
   },
   "file_extension": ".py",
   "mimetype": "text/x-python",
   "name": "python",
   "nbconvert_exporter": "python",
   "pygments_lexer": "ipython3",
   "version": "3.6.8"
  }
 },
 "nbformat": 4,
 "nbformat_minor": 2
}
